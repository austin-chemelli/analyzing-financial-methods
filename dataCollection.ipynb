{
 "cells": [
  {
   "cell_type": "markdown",
   "metadata": {},
   "source": [
    "# Data Collection\n",
    "\n",
    "In order to begin analyzing stocks we first need to collect data to analyze. We will do this by scraping a specified timeframe of stock information for a specified number of stocks.\n"
   ]
  },
  {
   "cell_type": "markdown",
   "metadata": {},
   "source": [
    "## Getting Started\n",
    "To get started, we must import some libraries:"
   ]
  },
  {
   "cell_type": "code",
   "execution_count": 1,
   "metadata": {},
   "outputs": [
    {
     "name": "stdout",
     "output_type": "stream",
     "text": [
      "Requirement already satisfied: yfinance in /usr/local/lib/python3.7/site-packages (0.1.63)\n",
      "Requirement already satisfied: requests>=2.20 in /usr/local/lib/python3.7/site-packages (from yfinance) (2.22.0)\n",
      "Requirement already satisfied: multitasking>=0.0.7 in /usr/local/lib/python3.7/site-packages (from yfinance) (0.0.9)\n",
      "Requirement already satisfied: numpy>=1.15 in /usr/local/lib/python3.7/site-packages (from yfinance) (1.16.4)\n",
      "Requirement already satisfied: lxml>=4.5.1 in /usr/local/lib/python3.7/site-packages (from yfinance) (4.6.3)\n",
      "Requirement already satisfied: pandas>=0.24 in /usr/local/lib/python3.7/site-packages (from yfinance) (0.25.3)\n",
      "Requirement already satisfied: urllib3!=1.25.0,!=1.25.1,<1.26,>=1.21.1 in /usr/local/lib/python3.7/site-packages (from requests>=2.20->yfinance) (1.24.3)\n",
      "Requirement already satisfied: certifi>=2017.4.17 in /usr/local/lib/python3.7/site-packages (from requests>=2.20->yfinance) (2019.3.9)\n",
      "Requirement already satisfied: idna<2.9,>=2.5 in /usr/local/lib/python3.7/site-packages (from requests>=2.20->yfinance) (2.8)\n",
      "Requirement already satisfied: chardet<3.1.0,>=3.0.2 in /usr/local/lib/python3.7/site-packages (from requests>=2.20->yfinance) (3.0.4)\n",
      "Requirement already satisfied: python-dateutil>=2.6.1 in /usr/local/lib/python3.7/site-packages (from pandas>=0.24->yfinance) (2.8.0)\n",
      "Requirement already satisfied: pytz>=2017.2 in /usr/local/lib/python3.7/site-packages (from pandas>=0.24->yfinance) (2019.3)\n",
      "Requirement already satisfied: six>=1.5 in /usr/local/lib/python3.7/site-packages (from python-dateutil>=2.6.1->pandas>=0.24->yfinance) (1.12.0)\n",
      "Requirement already satisfied: numpy in /usr/local/lib/python3.7/site-packages (1.16.4)\n",
      "Requirement already satisfied: pandas in /usr/local/lib/python3.7/site-packages (0.25.3)\n",
      "Requirement already satisfied: pytz>=2017.2 in /usr/local/lib/python3.7/site-packages (from pandas) (2019.3)\n",
      "Requirement already satisfied: numpy>=1.13.3 in /usr/local/lib/python3.7/site-packages (from pandas) (1.16.4)\n",
      "Requirement already satisfied: python-dateutil>=2.6.1 in /usr/local/lib/python3.7/site-packages (from pandas) (2.8.0)\n",
      "Requirement already satisfied: six>=1.5 in /usr/local/lib/python3.7/site-packages (from python-dateutil>=2.6.1->pandas) (1.12.0)\n",
      "======================\n",
      "Successfully imported libraries\n"
     ]
    }
   ],
   "source": [
    "import sys\n",
    "!{sys.executable} -m pip install yfinance\n",
    "!{sys.executable} -m pip install numpy\n",
    "!{sys.executable} -m pip install pandas\n",
    "print(\"======================\")\n",
    "\n",
    "\n",
    "import yfinance as yf\n",
    "import pandas as pd\n",
    "\n",
    "print (\"Successfully imported libraries\")"
   ]
  },
  {
   "cell_type": "markdown",
   "metadata": {},
   "source": [
    "We will begin by specifying a list of tickers we want to scrape:"
   ]
  },
  {
   "cell_type": "code",
   "execution_count": 2,
   "metadata": {},
   "outputs": [],
   "source": [
    "tickers = [\"MSFT\", \"AAPL\"]"
   ]
  },
  {
   "cell_type": "markdown",
   "metadata": {},
   "source": [
    "From here, we have to define some options:\n",
    "\n",
    "- Interval: This represents the frequency we want to get stock data\n",
    "- Time Frame (2 options):\n",
    "    - A)\n",
    "        - Period: This represents a timeframe in english (1m, 5m, 1d, 1y, ...)\n",
    "    - B)\n",
    "        - Start Date: This is the starting date for data scraping\n",
    "        - End Date: This is the ending date for data scraping"
   ]
  },
  {
   "cell_type": "code",
   "execution_count": 3,
   "metadata": {},
   "outputs": [],
   "source": [
    "period = '10y'\n",
    "start_date = None\n",
    "end_date = None\n",
    "interval = \"1d\""
   ]
  },
  {
   "cell_type": "markdown",
   "metadata": {},
   "source": [
    "Just a quick check to ensure variables are instantiated correctly:"
   ]
  },
  {
   "cell_type": "code",
   "execution_count": 4,
   "metadata": {},
   "outputs": [
    {
     "name": "stdout",
     "output_type": "stream",
     "text": [
      "Passed!\n"
     ]
    }
   ],
   "source": [
    "if tickers == None:\n",
    "    raise Exception(\"You must specify a list of tickers to scrape\")\n",
    "\n",
    "if period == None and start_date == None and end_date == None:\n",
    "            raise Exception(\"You must specify one timeframe in order to scrape\")\n",
    "        \n",
    "if period == None and (start_date == None or end_date == None):\n",
    "    raise Exception(\"You must specify both ends of the timeframe in order to scrape\")\n",
    "\n",
    "if period not in ['1d','5d','1mo','3mo','6mo','1y','2y','5y','10y','ytd','max']:\n",
    "    raise Exception(\"Please input a valid period\")\n",
    "\n",
    "if interval not in ['1m','2m','5m','15m','30m','60m','90m','1h','1d','5d','1wk','1mo','3mo']:\n",
    "    raise Exception(\"Please input a valid time interval\")\n",
    "\n",
    "if period != None and (start_date != None or end_date != None):\n",
    "    raise Exception(\"You can only specify one type of timeframe in order to scrape\")\n",
    "\n",
    "print(\"Passed!\")"
   ]
  },
  {
   "cell_type": "markdown",
   "metadata": {},
   "source": [
    "## Scraping Data\n",
    "Now that we have defined the scraping parameters, we can actually begin to scrape. We do this by calling the YFinance download method for each stock. However, we have to consider two cases:\n",
    "- We are using period\n",
    "- We are using start/end dates\n"
   ]
  },
  {
   "cell_type": "code",
   "execution_count": 5,
   "metadata": {},
   "outputs": [
    {
     "name": "stdout",
     "output_type": "stream",
     "text": [
      "Ticker String: \n",
      "MSFT AAPL\n",
      "[*********************100%***********************]  2 of 2 completed\n"
     ]
    }
   ],
   "source": [
    "ticker_string = ' '.join(tickers) #convert from list to space-separated string\n",
    "print(f\"Ticker String: \\n{ticker_string}\")\n",
    "\n",
    "if period != None: #if using period\n",
    "    data = yf.download(\n",
    "        ticker_string,\n",
    "        period = period,\n",
    "        interval = interval,\n",
    "        group_by = 'ticker',\n",
    "        threads = True\n",
    "    )\n",
    "else:\n",
    "    data = yf.download( #if using start/end dates\n",
    "        ticker_string,\n",
    "        start = start_date, \n",
    "        end = end_date,\n",
    "        interval = interval,\n",
    "        group_by = 'ticker',\n",
    "        threads = True\n",
    "    )"
   ]
  },
  {
   "cell_type": "markdown",
   "metadata": {},
   "source": [
    "At this point, we have a 3D nested dataframe, split by tickers and then by columns. To put this data in CSV files, we will create a CSV file for each ticker containing the relevant information."
   ]
  },
  {
   "cell_type": "code",
   "execution_count": 6,
   "metadata": {},
   "outputs": [
    {
     "name": "stdout",
     "output_type": "stream",
     "text": [
      "Saving data for MSFT\n",
      "Saving data for AAPL\n",
      "======================\n",
      "Saved stocks to CSV files. Take a look inside /datacollection folder for them.\n"
     ]
    }
   ],
   "source": [
    "for ticker in tickers:\n",
    "    print(f\"Saving data for {ticker}\")\n",
    "    \n",
    "    tickerdata = data[ticker]\n",
    "    tickerdata = tickerdata.drop([\"Close\"], axis=1) #only care about adjusted close\n",
    "    tickerdata.to_csv(f'./data/timeseries_data_{ticker}.csv') #write to csv file\n",
    "\n",
    "print(\"======================\")\n",
    "print(\"Saved stocks to CSV files. Take a look inside /datacollection folder for them.\")"
   ]
  }
 ],
 "metadata": {
  "interpreter": {
   "hash": "aee8b7b246df8f9039afb4144a1f6fd8d2ca17a180786b69acc140d282b71a49"
  },
  "kernelspec": {
   "display_name": "Python 3.7.9 64-bit",
   "name": "python3"
  },
  "language_info": {
   "codemirror_mode": {
    "name": "ipython",
    "version": 3
   },
   "file_extension": ".py",
   "mimetype": "text/x-python",
   "name": "python",
   "nbconvert_exporter": "python",
   "pygments_lexer": "ipython3",
   "version": "3.7.9"
  },
  "orig_nbformat": 4
 },
 "nbformat": 4,
 "nbformat_minor": 2
}
