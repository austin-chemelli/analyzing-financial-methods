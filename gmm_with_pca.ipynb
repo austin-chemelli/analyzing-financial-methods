{
 "cells": [
  {
   "cell_type": "markdown",
   "metadata": {},
   "source": [
    "# Performing GMM\n",
    "Now that we have our dataset, we can now perform GMM to cluster stocks based on the technical indicators."
   ]
  },
  {
   "cell_type": "code",
   "execution_count": 7,
   "metadata": {},
   "outputs": [],
   "source": [
    "tickers = [\"AMZN\", \"TSLA\", \"BABA\", \"HD\", \"TM\", \"NKE\", \"MCD\", \"LOW\", \"SBUX\", \"JD\", \"PDD\", \"BKNG\", \"GM\", \"MELI\", \"TJX\", \"NIO\", \"F\", \"LULU\", \"HMC\", \"CMG\"]"
   ]
  },
  {
   "cell_type": "code",
   "execution_count": 8,
   "metadata": {},
   "outputs": [
    {
     "name": "stdout",
     "output_type": "stream",
     "text": [
      "\u001b[33mDEPRECATION: Configuring installation scheme with distutils config files is deprecated and will no longer work in the near future. If you are using a Homebrew or Linuxbrew Python, please see discussion at https://github.com/Homebrew/homebrew-core/issues/76621\u001b[0m\n",
      "Requirement already satisfied: matplotlib in /usr/local/lib/python3.7/site-packages (3.4.3)\n",
      "Requirement already satisfied: python-dateutil>=2.7 in /usr/local/lib/python3.7/site-packages (from matplotlib) (2.8.0)\n",
      "Requirement already satisfied: pillow>=6.2.0 in /usr/local/lib/python3.7/site-packages (from matplotlib) (8.4.0)\n",
      "Requirement already satisfied: cycler>=0.10 in /usr/local/lib/python3.7/site-packages (from matplotlib) (0.10.0)\n",
      "Requirement already satisfied: pyparsing>=2.2.1 in /usr/local/lib/python3.7/site-packages (from matplotlib) (2.4.0)\n",
      "Requirement already satisfied: kiwisolver>=1.0.1 in /usr/local/lib/python3.7/site-packages (from matplotlib) (1.1.0)\n",
      "Requirement already satisfied: numpy>=1.16 in /usr/local/lib/python3.7/site-packages (from matplotlib) (1.16.4)\n",
      "Requirement already satisfied: six in /usr/local/lib/python3.7/site-packages (from cycler>=0.10->matplotlib) (1.12.0)\n",
      "Requirement already satisfied: setuptools in /usr/local/lib/python3.7/site-packages (from kiwisolver>=1.0.1->matplotlib) (46.0.0)\n",
      "\u001b[33mDEPRECATION: Configuring installation scheme with distutils config files is deprecated and will no longer work in the near future. If you are using a Homebrew or Linuxbrew Python, please see discussion at https://github.com/Homebrew/homebrew-core/issues/76621\u001b[0m\n",
      "Requirement already satisfied: sklearn in /usr/local/lib/python3.7/site-packages (0.0)\n",
      "Requirement already satisfied: scikit-learn in /usr/local/lib/python3.7/site-packages (from sklearn) (0.21.2)\n",
      "Requirement already satisfied: numpy>=1.11.0 in /usr/local/lib/python3.7/site-packages (from scikit-learn->sklearn) (1.16.4)\n",
      "Requirement already satisfied: joblib>=0.11 in /usr/local/lib/python3.7/site-packages (from scikit-learn->sklearn) (0.13.2)\n",
      "Requirement already satisfied: scipy>=0.17.0 in /usr/local/lib/python3.7/site-packages (from scikit-learn->sklearn) (1.3.0)\n",
      "\u001b[33mDEPRECATION: Configuring installation scheme with distutils config files is deprecated and will no longer work in the near future. If you are using a Homebrew or Linuxbrew Python, please see discussion at https://github.com/Homebrew/homebrew-core/issues/76621\u001b[0m\n",
      "Requirement already satisfied: numpy in /usr/local/lib/python3.7/site-packages (1.16.4)\n",
      "\u001b[33mDEPRECATION: Configuring installation scheme with distutils config files is deprecated and will no longer work in the near future. If you are using a Homebrew or Linuxbrew Python, please see discussion at https://github.com/Homebrew/homebrew-core/issues/76621\u001b[0m\n",
      "Requirement already satisfied: pandas in /usr/local/lib/python3.7/site-packages (0.25.3)\n",
      "Requirement already satisfied: numpy>=1.13.3 in /usr/local/lib/python3.7/site-packages (from pandas) (1.16.4)\n",
      "Requirement already satisfied: pytz>=2017.2 in /usr/local/lib/python3.7/site-packages (from pandas) (2019.3)\n",
      "Requirement already satisfied: python-dateutil>=2.6.1 in /usr/local/lib/python3.7/site-packages (from pandas) (2.8.0)\n",
      "Requirement already satisfied: six>=1.5 in /usr/local/lib/python3.7/site-packages (from python-dateutil>=2.6.1->pandas) (1.12.0)\n"
     ]
    }
   ],
   "source": [
    "import sys\n",
    "import os\n",
    "\n",
    "!{sys.executable} -m pip install matplotlib\n",
    "!{sys.executable} -m pip install sklearn\n",
    "!{sys.executable} -m pip install numpy\n",
    "!{sys.executable} -m pip install pandas"
   ]
  },
  {
   "cell_type": "code",
   "execution_count": 9,
   "metadata": {},
   "outputs": [],
   "source": [
    "from sklearn.preprocessing import StandardScaler, minmax_scale\n",
    "from sklearn.mixture import GaussianMixture\n",
    "from mpl_toolkits.mplot3d import Axes3D\n",
    "from sklearn.cluster import DBSCAN\n",
    "import sklearn.metrics as metrics\n",
    "import numpy as np\n",
    "import pandas as pd\n",
    "import matplotlib.pyplot as plt\n",
    "\n",
    "%matplotlib notebook\n"
   ]
  },
  {
   "cell_type": "markdown",
   "metadata": {},
   "source": [
    "We will first perform GMM on each stock individually based on its technical indicators, with the covariance type as full"
   ]
  },
  {
   "cell_type": "code",
   "execution_count": 28,
   "metadata": {},
   "outputs": [
    {
     "name": "stdout",
     "output_type": "stream",
     "text": [
      "Clustering stocks using GMM\n",
      "0.7258305943692243 4.856244266024899 5.770548701536103\n"
     ]
    },
    {
     "ename": "ValueError",
     "evalue": "The truth value of an array with more than one element is ambiguous. Use a.any() or a.all()",
     "output_type": "error",
     "traceback": [
      "\u001b[0;31m---------------------------------------------------------------------------\u001b[0m",
      "\u001b[0;31mValueError\u001b[0m                                Traceback (most recent call last)",
      "\u001b[0;32m<ipython-input-28-e376947a9d2d>\u001b[0m in \u001b[0;36m<module>\u001b[0;34m\u001b[0m\n\u001b[1;32m     21\u001b[0m \u001b[0;34m\u001b[0m\u001b[0m\n\u001b[1;32m     22\u001b[0m     \u001b[0mprint\u001b[0m\u001b[0;34m(\u001b[0m\u001b[0mq25\u001b[0m \u001b[0;34m-\u001b[0m \u001b[0;36m1\u001b[0m \u001b[0;34m*\u001b[0m \u001b[0miqr\u001b[0m\u001b[0;34m,\u001b[0m \u001b[0mdistToCenter\u001b[0m\u001b[0;34m[\u001b[0m\u001b[0;36m0\u001b[0m\u001b[0;34m]\u001b[0m\u001b[0;34m,\u001b[0m \u001b[0mq75\u001b[0m \u001b[0;34m+\u001b[0m \u001b[0;36m1\u001b[0m \u001b[0;34m*\u001b[0m \u001b[0miqr\u001b[0m\u001b[0;34m)\u001b[0m\u001b[0;34m\u001b[0m\u001b[0;34m\u001b[0m\u001b[0m\n\u001b[0;32m---> 23\u001b[0;31m     \u001b[0mnonOutlierIndices\u001b[0m \u001b[0;34m=\u001b[0m \u001b[0mnp\u001b[0m\u001b[0;34m.\u001b[0m\u001b[0mwhere\u001b[0m\u001b[0;34m(\u001b[0m\u001b[0mq25\u001b[0m \u001b[0;34m-\u001b[0m \u001b[0;36m1.5\u001b[0m \u001b[0;34m*\u001b[0m \u001b[0miqr\u001b[0m \u001b[0;34m<\u001b[0m \u001b[0mdistToCenter\u001b[0m \u001b[0;34m<\u001b[0m \u001b[0mq75\u001b[0m \u001b[0;34m+\u001b[0m \u001b[0;36m1.5\u001b[0m \u001b[0;34m*\u001b[0m \u001b[0miqr\u001b[0m\u001b[0;34m)\u001b[0m\u001b[0;34m\u001b[0m\u001b[0;34m\u001b[0m\u001b[0m\n\u001b[0m\u001b[1;32m     24\u001b[0m \u001b[0;34m\u001b[0m\u001b[0m\n\u001b[1;32m     25\u001b[0m     \u001b[0mprint\u001b[0m\u001b[0;34m(\u001b[0m\u001b[0mlen\u001b[0m\u001b[0;34m(\u001b[0m\u001b[0mfeatures\u001b[0m\u001b[0;34m)\u001b[0m\u001b[0;34m,\u001b[0m \u001b[0mlen\u001b[0m\u001b[0;34m(\u001b[0m\u001b[0mnonOutlierIndices\u001b[0m\u001b[0;34m)\u001b[0m\u001b[0;34m)\u001b[0m\u001b[0;34m\u001b[0m\u001b[0;34m\u001b[0m\u001b[0m\n",
      "\u001b[0;31mValueError\u001b[0m: The truth value of an array with more than one element is ambiguous. Use a.any() or a.all()"
     ]
    }
   ],
   "source": [
    "print(\"Clustering stocks using GMM\")\n",
    "for i in range(len(tickers)):\n",
    "\n",
    "    # read in data from csv\n",
    "    data = pd.read_csv(f'./data/{tickers[i]}.csv')\n",
    "\n",
    "    # generate matrix with technical indicators (features) as columns\n",
    "    features = data.to_numpy()[:, 6:]\n",
    "\n",
    "    # normalize each feature\n",
    "    scaler = StandardScaler()\n",
    "    X = scaler.fit_transform(features)\n",
    "    \n",
    "    center = np.mean(X, axis=0)\n",
    "    \n",
    "    distToCenter = np.linalg.norm(X-center, axis=1)\n",
    "    \n",
    "    q75, q25 = np.percentile(distToCenter, [75 ,25])\n",
    "    \n",
    "    iqr = q75 - q25\n",
    "    \n",
    "    print(q25 - 1 * iqr, distToCenter[0], q75 + 1 * iqr)\n",
    "#     nonOutlierIndices = np.where(q25 - 1 * iqr < distToCenter < q75 + 1 * iqr)\n",
    "    \n",
    "#     print(len(features), len(nonOutlierIndices))\n",
    "    \n",
    "#     break\n",
    "\n",
    "    from sklearn.decomposition import PCA\n",
    "    pca = PCA(n_components=3)\n",
    "    X = pca.fit_transform(X)\n",
    "\n",
    "    # newPlot = plt.figure(i)\n",
    "    # newPlot.suptitle(tickers[i])\n",
    "    n_components = np.arange(1, features.shape[1]+1)\n",
    "    gmms = [GaussianMixture(n_components=k, covariance_type='full').fit(X) for k in n_components]\n",
    "\n",
    "    \n",
    "    bics = np.array([gmm.bic(X) for gmm in gmms])\n",
    "    aics = np.array([gmm.aic(X) for gmm in gmms])\n",
    "    \n",
    "    minidx = np.argmin(bics)\n",
    "    centroids = gmms[minidx].means_\n",
    "\n",
    "    # calculate metrics\n",
    "    silhouettes = [metrics.silhouette_score(X, gmms[k-1].predict(X)) for k in n_components[1:]]\n",
    "\n",
    "    # descale centroids\n",
    "    centroids_descaled = scaler.inverse_transform(pca.inverse_transform(centroids))\n",
    "\n",
    "    # create df for centroids\n",
    "    centroids_df = pd.DataFrame(centroids_descaled, columns=data.columns[6:])\n",
    "    if not os.path.exists(\"centroids\"):\n",
    "        os.mkdir(\"centroids\")\n",
    "    centroids_df.to_csv(f'./centroids/{tickers[i]}_centroids.csv')\n",
    "\n",
    "\n",
    "    # plot the results\n",
    "    fig = plt.figure()\n",
    "    plt.title(f\"{tickers[i]} clustering metrics\")\n",
    "    plt.axvline(x=minidx + 1, color='r')\n",
    "    plt.plot(n_components, minmax_scale(bics), label='BIC (minimize)', color='r')\n",
    "    plt.plot(n_components, minmax_scale(aics), label='AIC (minimize)', color='g')\n",
    "    plt.plot(n_components[1:], minmax_scale(silhouettes), label='Silhouette (maximize)', color='b')\n",
    "    plt.legend(loc='best')\n",
    "    plt.xlabel('n_components')\n",
    "    plt.ylabel('metric value, scaled [0,1]')\n",
    "\n",
    "    plt.show()\n",
    "\n",
    "\n",
    "    fig = plt.figure()\n",
    "    ax = plt.axes(projection='3d')\n",
    "    ax.scatter3D(X[:, 0], X[:, 1], X[:, 2], s=0.1, c=gmms[minidx].predict(X), cmap='viridis')\n",
    "    ax.scatter3D(centroids[:, 0], centroids[:, 1], centroids[:, 2], marker='*', c='black')\n",
    "    ax.set_xlabel(\"1st Component\")\n",
    "    ax.set_ylabel(\"2nd Component\")\n",
    "    ax.set_zlabel(\"3rd Component\")\n",
    "    plt.title(f\"{tickers[i]} technical indicator clusters\")\n",
    "\n",
    "    plt.show()\n",
    "\n",
    "    # plt.plot(n_components[1:], silhouette_avg, label='SC')\n",
    "    # plt.legend(loc='best')\n",
    "    # plt.xlabel('n_components')\n",
    "    # plt.ylabel('Sillhouette Score')\n",
    "    # plt.show()\n"
   ]
  },
  {
   "cell_type": "code",
   "execution_count": null,
   "metadata": {},
   "outputs": [],
   "source": []
  }
 ],
 "metadata": {
  "interpreter": {
   "hash": "aee8b7b246df8f9039afb4144a1f6fd8d2ca17a180786b69acc140d282b71a49"
  },
  "kernelspec": {
   "display_name": "Python 3",
   "language": "python",
   "name": "python3"
  },
  "language_info": {
   "codemirror_mode": {
    "name": "ipython",
    "version": 3
   },
   "file_extension": ".py",
   "mimetype": "text/x-python",
   "name": "python",
   "nbconvert_exporter": "python",
   "pygments_lexer": "ipython3",
   "version": "3.7.9"
  }
 },
 "nbformat": 4,
 "nbformat_minor": 2
}
